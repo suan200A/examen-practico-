{
  "nbformat": 4,
  "nbformat_minor": 0,
  "metadata": {
    "colab": {
      "provenance": [],
      "authorship_tag": "ABX9TyNqUSfXaCeqJro06fvYCk6e",
      "include_colab_link": true
    },
    "kernelspec": {
      "name": "python3",
      "display_name": "Python 3"
    },
    "language_info": {
      "name": "python"
    }
  },
  "cells": [
    {
      "cell_type": "markdown",
      "metadata": {
        "id": "view-in-github",
        "colab_type": "text"
      },
      "source": [
        "<a href=\"https://colab.research.google.com/github/suan200A/examen-practico-/blob/main/untitled12.ipynb\" target=\"_parent\"><img src=\"https://colab.research.google.com/assets/colab-badge.svg\" alt=\"Open In Colab\"/></a>"
      ]
    },
    {
      "cell_type": "code",
      "source": [
        "!pip install kagglehub[pandas-datasets]\n",
        "!pip install tensorflow\n",
        "!pip install translate"
      ],
      "metadata": {
        "colab": {
          "base_uri": "https://localhost:8080/"
        },
        "id": "B9mC78YWLp4m",
        "outputId": "9eceec54-966d-4702-fcbe-28576a52f744"
      },
      "execution_count": null,
      "outputs": [
        {
          "output_type": "stream",
          "name": "stdout",
          "text": [
            "Requirement already satisfied: kagglehub[pandas-datasets] in /usr/local/lib/python3.12/dist-packages (0.3.12)\n",
            "Requirement already satisfied: packaging in /usr/local/lib/python3.12/dist-packages (from kagglehub[pandas-datasets]) (25.0)\n",
            "Requirement already satisfied: pyyaml in /usr/local/lib/python3.12/dist-packages (from kagglehub[pandas-datasets]) (6.0.2)\n",
            "Requirement already satisfied: requests in /usr/local/lib/python3.12/dist-packages (from kagglehub[pandas-datasets]) (2.32.4)\n",
            "Requirement already satisfied: tqdm in /usr/local/lib/python3.12/dist-packages (from kagglehub[pandas-datasets]) (4.67.1)\n",
            "Requirement already satisfied: pandas in /usr/local/lib/python3.12/dist-packages (from kagglehub[pandas-datasets]) (2.2.2)\n",
            "Requirement already satisfied: numpy>=1.26.0 in /usr/local/lib/python3.12/dist-packages (from pandas->kagglehub[pandas-datasets]) (2.0.2)\n",
            "Requirement already satisfied: python-dateutil>=2.8.2 in /usr/local/lib/python3.12/dist-packages (from pandas->kagglehub[pandas-datasets]) (2.9.0.post0)\n",
            "Requirement already satisfied: pytz>=2020.1 in /usr/local/lib/python3.12/dist-packages (from pandas->kagglehub[pandas-datasets]) (2025.2)\n",
            "Requirement already satisfied: tzdata>=2022.7 in /usr/local/lib/python3.12/dist-packages (from pandas->kagglehub[pandas-datasets]) (2025.2)\n",
            "Requirement already satisfied: charset_normalizer<4,>=2 in /usr/local/lib/python3.12/dist-packages (from requests->kagglehub[pandas-datasets]) (3.4.3)\n",
            "Requirement already satisfied: idna<4,>=2.5 in /usr/local/lib/python3.12/dist-packages (from requests->kagglehub[pandas-datasets]) (3.10)\n",
            "Requirement already satisfied: urllib3<3,>=1.21.1 in /usr/local/lib/python3.12/dist-packages (from requests->kagglehub[pandas-datasets]) (2.5.0)\n",
            "Requirement already satisfied: certifi>=2017.4.17 in /usr/local/lib/python3.12/dist-packages (from requests->kagglehub[pandas-datasets]) (2025.8.3)\n",
            "Requirement already satisfied: six>=1.5 in /usr/local/lib/python3.12/dist-packages (from python-dateutil>=2.8.2->pandas->kagglehub[pandas-datasets]) (1.17.0)\n",
            "Requirement already satisfied: tensorflow in /usr/local/lib/python3.12/dist-packages (2.19.0)\n",
            "Requirement already satisfied: absl-py>=1.0.0 in /usr/local/lib/python3.12/dist-packages (from tensorflow) (1.4.0)\n",
            "Requirement already satisfied: astunparse>=1.6.0 in /usr/local/lib/python3.12/dist-packages (from tensorflow) (1.6.3)\n",
            "Requirement already satisfied: flatbuffers>=24.3.25 in /usr/local/lib/python3.12/dist-packages (from tensorflow) (25.2.10)\n",
            "Requirement already satisfied: gast!=0.5.0,!=0.5.1,!=0.5.2,>=0.2.1 in /usr/local/lib/python3.12/dist-packages (from tensorflow) (0.6.0)\n",
            "Requirement already satisfied: google-pasta>=0.1.1 in /usr/local/lib/python3.12/dist-packages (from tensorflow) (0.2.0)\n",
            "Requirement already satisfied: libclang>=13.0.0 in /usr/local/lib/python3.12/dist-packages (from tensorflow) (18.1.1)\n",
            "Requirement already satisfied: opt-einsum>=2.3.2 in /usr/local/lib/python3.12/dist-packages (from tensorflow) (3.4.0)\n",
            "Requirement already satisfied: packaging in /usr/local/lib/python3.12/dist-packages (from tensorflow) (25.0)\n",
            "Requirement already satisfied: protobuf!=4.21.0,!=4.21.1,!=4.21.2,!=4.21.3,!=4.21.4,!=4.21.5,<6.0.0dev,>=3.20.3 in /usr/local/lib/python3.12/dist-packages (from tensorflow) (5.29.5)\n",
            "Requirement already satisfied: requests<3,>=2.21.0 in /usr/local/lib/python3.12/dist-packages (from tensorflow) (2.32.4)\n",
            "Requirement already satisfied: setuptools in /usr/local/lib/python3.12/dist-packages (from tensorflow) (75.2.0)\n",
            "Requirement already satisfied: six>=1.12.0 in /usr/local/lib/python3.12/dist-packages (from tensorflow) (1.17.0)\n",
            "Requirement already satisfied: termcolor>=1.1.0 in /usr/local/lib/python3.12/dist-packages (from tensorflow) (3.1.0)\n",
            "Requirement already satisfied: typing-extensions>=3.6.6 in /usr/local/lib/python3.12/dist-packages (from tensorflow) (4.14.1)\n",
            "Requirement already satisfied: wrapt>=1.11.0 in /usr/local/lib/python3.12/dist-packages (from tensorflow) (1.17.3)\n",
            "Requirement already satisfied: grpcio<2.0,>=1.24.3 in /usr/local/lib/python3.12/dist-packages (from tensorflow) (1.74.0)\n",
            "Requirement already satisfied: tensorboard~=2.19.0 in /usr/local/lib/python3.12/dist-packages (from tensorflow) (2.19.0)\n",
            "Requirement already satisfied: keras>=3.5.0 in /usr/local/lib/python3.12/dist-packages (from tensorflow) (3.10.0)\n",
            "Requirement already satisfied: numpy<2.2.0,>=1.26.0 in /usr/local/lib/python3.12/dist-packages (from tensorflow) (2.0.2)\n",
            "Requirement already satisfied: h5py>=3.11.0 in /usr/local/lib/python3.12/dist-packages (from tensorflow) (3.14.0)\n",
            "Requirement already satisfied: ml-dtypes<1.0.0,>=0.5.1 in /usr/local/lib/python3.12/dist-packages (from tensorflow) (0.5.3)\n",
            "Requirement already satisfied: wheel<1.0,>=0.23.0 in /usr/local/lib/python3.12/dist-packages (from astunparse>=1.6.0->tensorflow) (0.45.1)\n",
            "Requirement already satisfied: rich in /usr/local/lib/python3.12/dist-packages (from keras>=3.5.0->tensorflow) (13.9.4)\n",
            "Requirement already satisfied: namex in /usr/local/lib/python3.12/dist-packages (from keras>=3.5.0->tensorflow) (0.1.0)\n",
            "Requirement already satisfied: optree in /usr/local/lib/python3.12/dist-packages (from keras>=3.5.0->tensorflow) (0.17.0)\n",
            "Requirement already satisfied: charset_normalizer<4,>=2 in /usr/local/lib/python3.12/dist-packages (from requests<3,>=2.21.0->tensorflow) (3.4.3)\n",
            "Requirement already satisfied: idna<4,>=2.5 in /usr/local/lib/python3.12/dist-packages (from requests<3,>=2.21.0->tensorflow) (3.10)\n",
            "Requirement already satisfied: urllib3<3,>=1.21.1 in /usr/local/lib/python3.12/dist-packages (from requests<3,>=2.21.0->tensorflow) (2.5.0)\n",
            "Requirement already satisfied: certifi>=2017.4.17 in /usr/local/lib/python3.12/dist-packages (from requests<3,>=2.21.0->tensorflow) (2025.8.3)\n",
            "Requirement already satisfied: markdown>=2.6.8 in /usr/local/lib/python3.12/dist-packages (from tensorboard~=2.19.0->tensorflow) (3.8.2)\n",
            "Requirement already satisfied: tensorboard-data-server<0.8.0,>=0.7.0 in /usr/local/lib/python3.12/dist-packages (from tensorboard~=2.19.0->tensorflow) (0.7.2)\n",
            "Requirement already satisfied: werkzeug>=1.0.1 in /usr/local/lib/python3.12/dist-packages (from tensorboard~=2.19.0->tensorflow) (3.1.3)\n",
            "Requirement already satisfied: MarkupSafe>=2.1.1 in /usr/local/lib/python3.12/dist-packages (from werkzeug>=1.0.1->tensorboard~=2.19.0->tensorflow) (3.0.2)\n",
            "Requirement already satisfied: markdown-it-py>=2.2.0 in /usr/local/lib/python3.12/dist-packages (from rich->keras>=3.5.0->tensorflow) (4.0.0)\n",
            "Requirement already satisfied: pygments<3.0.0,>=2.13.0 in /usr/local/lib/python3.12/dist-packages (from rich->keras>=3.5.0->tensorflow) (2.19.2)\n",
            "Requirement already satisfied: mdurl~=0.1 in /usr/local/lib/python3.12/dist-packages (from markdown-it-py>=2.2.0->rich->keras>=3.5.0->tensorflow) (0.1.2)\n",
            "Collecting translate\n",
            "  Downloading translate-3.6.1-py2.py3-none-any.whl.metadata (7.7 kB)\n",
            "Requirement already satisfied: click in /usr/local/lib/python3.12/dist-packages (from translate) (8.2.1)\n",
            "Requirement already satisfied: lxml in /usr/local/lib/python3.12/dist-packages (from translate) (5.4.0)\n",
            "Requirement already satisfied: requests in /usr/local/lib/python3.12/dist-packages (from translate) (2.32.4)\n",
            "Collecting libretranslatepy==2.1.1 (from translate)\n",
            "  Downloading libretranslatepy-2.1.1-py3-none-any.whl.metadata (233 bytes)\n",
            "Requirement already satisfied: charset_normalizer<4,>=2 in /usr/local/lib/python3.12/dist-packages (from requests->translate) (3.4.3)\n",
            "Requirement already satisfied: idna<4,>=2.5 in /usr/local/lib/python3.12/dist-packages (from requests->translate) (3.10)\n",
            "Requirement already satisfied: urllib3<3,>=1.21.1 in /usr/local/lib/python3.12/dist-packages (from requests->translate) (2.5.0)\n",
            "Requirement already satisfied: certifi>=2017.4.17 in /usr/local/lib/python3.12/dist-packages (from requests->translate) (2025.8.3)\n",
            "Downloading translate-3.6.1-py2.py3-none-any.whl (12 kB)\n",
            "Downloading libretranslatepy-2.1.1-py3-none-any.whl (3.2 kB)\n",
            "Installing collected packages: libretranslatepy, translate\n",
            "Successfully installed libretranslatepy-2.1.1 translate-3.6.1\n"
          ]
        }
      ]
    },
    {
      "cell_type": "code",
      "source": [
        "import kagglehub\n",
        "from kagglehub import KaggleDatasetAdapter\n",
        "import pandas as pd\n",
        "import tensorflow as tf  # Importamos TensorFlow"
      ],
      "metadata": {
        "id": "p0Dmr5IALxDX"
      },
      "execution_count": null,
      "outputs": []
    },
    {
      "cell_type": "code",
      "source": [
        "import os\n",
        "os.environ['KAGGLE_USERNAME'] = \"Jhonatan CC\" # Reemplaza con tu nombre de usuario de Kaggle\n",
        "os.environ['KAGGLE_KEY'] = \"a23f3f838c83a3834c2c384582ede27d\" # Reemplaza con tu token de Kaggle"
      ],
      "metadata": {
        "id": "JrBqOupbL5Lv"
      },
      "execution_count": null,
      "outputs": []
    },
    {
      "cell_type": "code",
      "source": [
        "import kagglehub\n",
        "from kagglehub import KaggleDatasetAdapter\n",
        "import pandas as pd\n",
        "\n",
        "# Cargar el dataset\n",
        "df = kagglehub.load_dataset(\n",
        "    KaggleDatasetAdapter.PANDAS,\n",
        "    \"zhangjuefei/death-metal\",\n",
        "    \"bands.csv\"  # Especifica el archivo CSV que contiene la información de las bandas\n",
        ")\n",
        "\n",
        "# Verificar la carga\n",
        "print(df.head())"
      ],
      "metadata": {
        "colab": {
          "base_uri": "https://localhost:8080/"
        },
        "id": "4rmka2hxNj9D",
        "outputId": "8149d941-21d1-4adf-acda-37d6734f4aaf"
      },
      "execution_count": null,
      "outputs": [
        {
          "output_type": "stream",
          "name": "stderr",
          "text": [
            "/tmp/ipython-input-911222152.py:6: DeprecationWarning: load_dataset is deprecated and will be removed in a future version.\n",
            "  df = kagglehub.load_dataset(\n"
          ]
        },
        {
          "output_type": "stream",
          "name": "stdout",
          "text": [
            "   id                name        country    status  formed_in        genre  \\\n",
            "0   1          ('M') Inc.  United States   Unknown     2009.0  Death Metal   \n",
            "1   2               (sic)  United States  Split-up     1993.0  Death Metal   \n",
            "2   3           .F.O.A.D.         France    Active     2009.0  Death Metal   \n",
            "3   4            100 Suns  United States    Active     2004.0  Death Metal   \n",
            "4   5  12 Days of Anarchy  United States  Split-up     1998.0  Death Metal   \n",
            "\n",
            "            theme        active  \n",
            "0             NaN        2009-?  \n",
            "1             NaN     1993-1996  \n",
            "2  Life and Death  2009-present  \n",
            "3             NaN  2004-present  \n",
            "4         Anarchy     1998-2002  \n"
          ]
        }
      ]
    },
    {
      "cell_type": "code",
      "source": [
        "import pandas as pd\n",
        "import kagglehub\n",
        "from kagglehub import KaggleDatasetAdapter\n",
        "\n",
        "dataset = \"zhangjuefei/death-metal\"\n",
        "\n",
        "bands_df = kagglehub.load_dataset(\n",
        "    KaggleDatasetAdapter.PANDAS,\n",
        "    dataset,\n",
        "    \"bands.csv\"\n",
        ")\n",
        "albums_df = kagglehub.load_dataset(\n",
        "    KaggleDatasetAdapter.PANDAS,\n",
        "    dataset,\n",
        "    \"albums.csv\"\n",
        ")\n",
        "reviews_df = kagglehub.load_dataset(\n",
        "    KaggleDatasetAdapter.PANDAS,\n",
        "    dataset,\n",
        "    \"reviews.csv\"\n",
        ")"
      ],
      "metadata": {
        "colab": {
          "base_uri": "https://localhost:8080/"
        },
        "id": "QcnB-qJaORXi",
        "outputId": "e618736c-3b90-43e5-9483-316c408e6863"
      },
      "execution_count": null,
      "outputs": [
        {
          "output_type": "stream",
          "name": "stderr",
          "text": [
            "/tmp/ipython-input-1494110314.py:7: DeprecationWarning: load_dataset is deprecated and will be removed in a future version.\n",
            "  bands_df = kagglehub.load_dataset(\n",
            "/tmp/ipython-input-1494110314.py:12: DeprecationWarning: load_dataset is deprecated and will be removed in a future version.\n",
            "  albums_df = kagglehub.load_dataset(\n",
            "/tmp/ipython-input-1494110314.py:17: DeprecationWarning: load_dataset is deprecated and will be removed in a future version.\n",
            "  reviews_df = kagglehub.load_dataset(\n"
          ]
        }
      ]
    },
    {
      "cell_type": "code",
      "metadata": {
        "colab": {
          "base_uri": "https://localhost:8080/",
          "height": 678
        },
        "id": "dDFGU9CXQXd0",
        "outputId": "bd84da58-dc52-48be-84d2-0f05beec7856"
      },
      "source": [
        "import gradio as gr\n",
        "import pandas as pd\n",
        "import plotly.express as px\n",
        "import kagglehub\n",
        "from kagglehub import KaggleDatasetAdapter\n",
        "from translate import Translator # Importar la biblioteca de traducción\n",
        "\n",
        "# Cargar el dataset directly (can be done outside if it's a fixed dataset)\n",
        "dataset = \"zhangjuefei/death-metal\"\n",
        "bands_df = None\n",
        "try:\n",
        "    bands_df = kagglehub.load_dataset(\n",
        "        KaggleDatasetAdapter.PANDAS,\n",
        "        dataset,\n",
        "        \"bands.csv\"\n",
        "    )\n",
        "    print(\"Dataset cargado exitosamente desde KaggleHub.\")\n",
        "except Exception as e:\n",
        "    print(f\"Error al cargar el dataset: {e}\")\n",
        "\n",
        "\n",
        "def filtrar_bandas_por_pais(df, pais):\n",
        "    \"\"\"Filtra las bandas por país, traduciendo el país de entrada si es necesario.\"\"\"\n",
        "    if df is None:\n",
        "        return \"Error: El dataset no se ha cargado correctamente.\"\n",
        "    if pais:\n",
        "        # Intentar traducir el nombre del país a inglés\n",
        "        try:\n",
        "            translator = Translator(to_lang=\"en\")\n",
        "            pais_ingles = translator.translate(pais)\n",
        "            print(f\"Traduciendo '{pais}' a '{pais_ingles}'\") # Para depuración\n",
        "        except Exception as e:\n",
        "            print(f\"Error durante la traducción: {e}\")\n",
        "            pais_ingles = pais # Usar el nombre original si la traducción falla o no es necesaria\n",
        "\n",
        "        bandas_pais = df[df['country'].str.contains(pais_ingles, case=False, na=False)]\n",
        "    else:\n",
        "        bandas_pais = df  # Si no se especifica país, muestra todas las bandas\n",
        "    return bandas_pais.to_html() if bandas_pais is not None else \"No matching bands found.\"\n",
        "\n",
        "def buscar_banda_por_nombre(df, nombre_banda):\n",
        "    \"\"\"Busca bandas por nombre.\"\"\"\n",
        "    if df is None:\n",
        "        return \"Error: El dataset no se ha cargado correctamente.\"\n",
        "    if nombre_banda:\n",
        "        bandas_encontradas = df[df['name'].str.contains(nombre_banda, case=False, na=False)]\n",
        "    else:\n",
        "        bandas_encontradas = df # Si no se especifica nombre, muestra todas las bandas\n",
        "    return bandas_encontradas.to_html() if bandas_encontradas is not None else \"No matching bands found.\"\n",
        "\n",
        "\n",
        "def generar_grafico_barras(df, columna):\n",
        "    \"\"\"Genera un gráfico de barras con la distribución de una columna.\"\"\"\n",
        "    print(f\"Generating graph for column: {columna}\") # Debugging line\n",
        "    if df is None:\n",
        "        print(\"DataFrame is None, cannot generate graph.\") # Debugging line\n",
        "        return None # Return None for gr.Plot if there's an error\n",
        "    counts = df[columna].value_counts().reset_index()\n",
        "    counts.columns = [columna, 'Cantidad']\n",
        "    fig = px.bar(counts, x=columna, y='Cantidad', labels={'x': columna, 'y': 'Cantidad'})\n",
        "    print(f\"Generated Plotly figure for {columna}\") # Debugging line\n",
        "    return fig\n",
        "\n",
        "# Interfaz de Gradio\n",
        "with gr.Blocks(title=\"Filtro y Búsqueda de Bandas de Death Metal\") as interfaz:\n",
        "    gr.Markdown(\"# Filtro y Búsqueda de Bandas de Death Metal\")\n",
        "\n",
        "    # Use gr.State to hold the dataframe\n",
        "    data_state = gr.State(bands_df)\n",
        "\n",
        "    with gr.Tab(\"Filtro por País\"):\n",
        "        pais_input = gr.Textbox(label=\"País \")\n",
        "        filtrar_button = gr.Button(\"Filtrar\")\n",
        "        bandas_filtradas = gr.HTML(label=\"Bandas Filtradas\")\n",
        "\n",
        "        filtrar_button.click(\n",
        "            filtrar_bandas_por_pais,\n",
        "            inputs=[data_state, pais_input],\n",
        "            outputs=bandas_filtradas\n",
        "        )\n",
        "\n",
        "    with gr.Tab(\"Buscar por Nombre\"):\n",
        "        nombre_banda_input = gr.Textbox(label=\"Nombre de la Banda\")\n",
        "        buscar_button = gr.Button(\"Buscar\")\n",
        "        bandas_encontradas = gr.HTML(label=\"Bandas Encontradas\")\n",
        "\n",
        "        buscar_button.click(\n",
        "            buscar_banda_por_nombre,\n",
        "            inputs=[data_state, nombre_banda_input],\n",
        "            outputs=bandas_encontradas\n",
        "        )\n",
        "\n",
        "\n",
        "    with gr.Tab(\"Gráfico de Países\") as grafico_paises_tab:\n",
        "        grafico_paises = gr.Plot(label=\"Distribución por Países\") # Changed to gr.Plot\n",
        "\n",
        "        grafico_paises_tab.select(\n",
        "            generar_grafico_barras,\n",
        "            inputs=[data_state, gr.State(\"country\")],\n",
        "            outputs=grafico_paises\n",
        "        )\n",
        "\n",
        "\n",
        "    # CSS personalizado (ejemplo)\n",
        "    interfaz.head = \"\"\"\n",
        "    <style>\n",
        "    body {\n",
        "        background-color: #222;\n",
        "        color: #fff;\n",
        "        font-family: sans-serif;\n",
        "    }\n",
        "    .gradio-container {\n",
        "        max-width: 800px;\n",
        "        margin: 0 auto;\n",
        "    }\n",
        "    .gr-button {\n",
        "        background-color: #4CAF50 !important;\n",
        "        color: white !important;\n",
        "        padding: 12px 20px !important;\n",
        "        border: none !important;\n",
        "        border-radius: 4px !important;\n",
        "        cursor: pointer !important;\n",
        "    }\n",
        "    .gr-button:hover {\n",
        "        background-color: #3e8e41 !important;\n",
        "    }\n",
        "    .gr-text-input, .gr-file {\n",
        "        margin-bottom: 15px;\n",
        "    }\n",
        "    .gr-output {\n",
        "        background-color: #333;\n",
        "        padding: 15px;\n",
        "        border-radius: 4px;\n",
        "    }\n",
        "    </style>\n",
        "    \"\"\"\n",
        "\n",
        "    interfaz.launch(share=True)"
      ],
      "execution_count": 25,
      "outputs": [
        {
          "output_type": "stream",
          "name": "stderr",
          "text": [
            "/tmp/ipython-input-3153032536.py:12: DeprecationWarning:\n",
            "\n",
            "load_dataset is deprecated and will be removed in a future version.\n",
            "\n"
          ]
        },
        {
          "output_type": "stream",
          "name": "stdout",
          "text": [
            "Dataset cargado exitosamente desde KaggleHub.\n",
            "Colab notebook detected. To show errors in colab notebook, set debug=True in launch()\n",
            "* Running on public URL: https://29ad16eedcc0487b00.gradio.live\n",
            "\n",
            "This share link expires in 1 week. For free permanent hosting and GPU upgrades, run `gradio deploy` from the terminal in the working directory to deploy to Hugging Face Spaces (https://huggingface.co/spaces)\n"
          ]
        },
        {
          "output_type": "display_data",
          "data": {
            "text/plain": [
              "<IPython.core.display.HTML object>"
            ],
            "text/html": [
              "<div><iframe src=\"https://29ad16eedcc0487b00.gradio.live\" width=\"100%\" height=\"500\" allow=\"autoplay; camera; microphone; clipboard-read; clipboard-write;\" frameborder=\"0\" allowfullscreen></iframe></div>"
            ]
          },
          "metadata": {}
        }
      ]
    }
  ]
}